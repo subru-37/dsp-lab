{
 "cells": [
  {
   "cell_type": "markdown",
   "metadata": {},
   "source": [
    "##### LED Blink\n",
    "\n",
    "##### Date: 27/11/2023\n",
    "\n",
    "#### AIM: \n",
    "Write a source code that blinks LED #0 using the LED module of the DSK6713 Board Support Library. Also reads the state of DIP switch #3 and lights LED #3 if the switch is pressed or turns it off if the switch is not pressed.\n",
    "\n",
    "##### Theory:\n",
    "In this experiment, we will add source code that blinks LED #0 at a rate of about 2.5 times per second using the LED module of the DSK6713 Board Support Library.  The example also reads the state of DIP switch #3 and lights LED #3 if the switch is depressed or turns it off if the switch is not depressed. The purpose of this experiment is to demonstrate basic Board Support Library usage as well as provide a project base for your own code.  The BSL is divided into several modules, each of which has its own include file.  The file dsk6713.h must be included in every program that uses the BSL.  This example also includes  dsk6713_led.h and dsk6713_dip.h because it uses the LED and DIP modules.  To add a source file, right click on the project name and New>File and give file name as led.c. Click Finish. (You can also add from menu File> New ). Type the following code in the led.c file:\n",
    "\n",
    "##### CODE:\n",
    "```\n",
    "/*  ======== led.c ========*/\n",
    "#include <dsk6713.h>\n",
    "#include <dsk6713_led.h>\n",
    "#include <dsk6713_dip.h>\n",
    "void main()\n",
    "{\n",
    "/* Initialize the board support library, must be first BSL call */ DSK6713_init();\n",
    "\n",
    "   \t\t /* Initialize the LED and DIP switch modules of the BSL */\n",
    "    \t\tDSK6713_LED_init();\n",
    "    \t\tDSK6713_DIP_init();\n",
    "\n",
    "    \t\twhile(1)\n",
    "    \t\t{\n",
    "        \t\t/* Toggle LED #0 */\n",
    "        \t\tDSK6713_LED_toggle(0);\n",
    "\n",
    "/* Check DIP switch #3 and light LED #3 accordingly, */\n",
    "//0 = switch pressed \n",
    "        \t\tif (DSK6713_DIP_get(3) == 0)\n",
    "            \t\t/* Switch pressed, turn LED #3 on */\n",
    "            \t\t\tDSK6713_LED_on(3);\n",
    "        \t\telse\n",
    "            \t\t/* Switch not pressed, turn LED #3 off */\n",
    "            \t\t\tDSK6713_LED_off(3);\n",
    "\n",
    "        \t\t/* Spin in a software delay loop for about 200ms */\n",
    "        \t\tDSK6713_waitusec(200000);\n",
    "    \t\t}\n",
    "}\n",
    "\n",
    "```\n",
    "\n",
    "##### Procedure: \n",
    "Save and Build the program (by clicking the hammer icon). Connect the DSK to the PC and start Debug (by clicking the bug icon). CCS will automatically perform a series of steps. It will switch to Debug perspective, connect to the debug probe, Load the project’s executable file (.out) to the device memory, and will run to the function main(). Click Resume to continue execution. Verify that the program works as described.  A number of debugging features are available in CCS, including setting breakpoints and watching variables, viewing memory, registers, and mixing C and assembly code, graphing results, and monitoring execution time. One can step through a program in different ways (step into, or over, or out)\n",
    "\n",
    "##### Result:\n",
    "The output LED is successfully controlled with the DIP switch\n"
   ]
  }
 ],
 "metadata": {
  "language_info": {
   "name": "python"
  }
 },
 "nbformat": 4,
 "nbformat_minor": 2
}
