{
 "cells": [
  {
   "cell_type": "markdown",
   "metadata": {},
   "source": [
    "<h3 style=\"text-align: center;\">EXPERIMENT-8</h3>\n",
    "<h3 style=\"text-align: center;\">Linear Convolution Using Circular Convolution</h3>\n",
    "\n",
    "##### DATE: 09/10/2023 \n",
    "\n",
    "##### AIM:\n",
    "Write a program to find linear convolution using circular convolution using DFT and IDFT equation. \n",
    "\n",
    "\n",
    "##### SOFTWARE USED:\n",
    "Python\n",
    "\n",
    "##### THEORY:\n",
    "For two vectors, x and h, the circular convolution is equal to the inverse discrete Fourier transform (IDFT) of the product of the vectors' DFTs. Knowing the conditions under which linear and circular convolution are equivalent allows us to use the DFT to efficiently compute linear convolutions. The linear convolution of an L-point vector and an M-point vector, h has length N = L+M-1.\n",
    "\n",
    "##### CODE:"
   ]
  },
  {
   "cell_type": "code",
   "execution_count": 44,
   "id": "ccb47c86-e4a4-4d1d-bb6e-edea25a94a15",
   "metadata": {},
   "outputs": [
    {
     "name": "stdout",
     "output_type": "stream",
     "text": [
      "Enter the sequence of x1: 1,2,3,4,5\n",
      "Enter the sequence of x2: 2,3,4,5,5,6,7\n"
     ]
    },
    {
     "name": "stdout",
     "output_type": "stream",
     "text": [
      "The result of linear convolution using circular convolution using matrix method is:  [ 2  7 16 30 49 62 74 77 70 58 35]\n"
     ]
    }
   ],
   "source": [
    "import numpy as np\n",
    "import math\n",
    "x1 = np.array(input(\"Enter the sequence of x1:\").split(\",\")).astype(int)\n",
    "x2 = np.array(input(\"Enter the sequence of x2:\").split(\",\")).astype(int)\n",
    "k = len(x1)+len(x2)-1\n",
    "L = len(x1)+len(x2)-1\n",
    "x1 = np.pad (x1, (0, (L - len(x1)))) \n",
    "x2 = np.pad (x2, (0, (L - len(x2))))\n",
    "\n",
    "z = x1\n",
    "for i in range (k-1):\n",
    "  x1 = np.roll(x1,1)\n",
    "  z = np.concatenate((z,x1))\n",
    "z = z.reshape(k,k)\n",
    "z = np.transpose (z) \n",
    "\n",
    "\n",
    "ans = np.dot(z,x2) \n",
    "print(\"The result of linear convolution using circular convolution using matrix method is: \",ans)\n"
   ]
  },
  {
   "cell_type": "code",
   "execution_count": 45,
   "id": "b5b92612-d046-4e9c-bba2-135369fa8a80",
   "metadata": {},
   "outputs": [
    {
     "name": "stdout",
     "output_type": "stream",
     "text": [
      "Enter the sequence of x1: 1,2,3,4,5\n",
      "Enter the sequence of x2: 2,3,4,5,5,6,7\n"
     ]
    },
    {
     "name": "stdout",
     "output_type": "stream",
     "text": [
      "The result of linear convolution using circular convolution from dft and idft is:  [ 2.  7. 16. 30. 49. 62. 74. 77. 70. 58. 35.]\n"
     ]
    }
   ],
   "source": [
    "x1 = np.array(input(\"Enter the sequence of x1:\").split(\",\")).astype(int)\n",
    "x2 = np.array(input(\"Enter the sequence of x2:\").split(\",\")).astype(int)\n",
    "x11 = x1\n",
    "x22 = x2\n",
    "\n",
    "L = len(x1)+len(x2)-1 # for linear convolution you have to make length x1,x2 = length of the comvolution matrix, so...\n",
    "x1 = np.pad (x1, (0, (L - len(x1)))) #pad zeroes to make len of x1 and x2 = L\n",
    "x2 = np.pad (x2, (0, (L - len(x2))))\n",
    "\n",
    "X1 = np.fft.fft(x1)\n",
    "X2 = np.fft.fft(x2)\n",
    "y = (np.fft.ifft(X1*X2))#.astype(float)\n",
    "print (\"The result of linear convolution using circular convolution from dft and idft is: \",np.real(y))"
   ]
  },
  {
   "cell_type": "markdown",
   "metadata": {},
   "source": [
    "##### RESULT \n",
    "Successfully performed linear convolution using circular convolution\n"
   ]
  }
 ],
 "metadata": {
  "kernelspec": {
   "display_name": "Python 3 (ipykernel)",
   "language": "python",
   "name": "python3"
  },
  "language_info": {
   "codemirror_mode": {
    "name": "ipython",
    "version": 3
   },
   "file_extension": ".py",
   "mimetype": "text/x-python",
   "name": "python",
   "nbconvert_exporter": "python",
   "pygments_lexer": "ipython3",
   "version": "3.11.2"
  }
 },
 "nbformat": 4,
 "nbformat_minor": 5
}
