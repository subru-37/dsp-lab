{
 "cells": [
  {
   "cell_type": "code",
   "execution_count": 72,
   "id": "8a0dc7e4-f48a-485e-93ba-9c9fd797413d",
   "metadata": {},
   "outputs": [
    {
     "name": "stdin",
     "output_type": "stream",
     "text": [
      "Enter Input signal:  1,2,3,3,2,1,-1,-2,-3,5,6,-1,2,0,2,1\n",
      "Enter Impulse response:  3,2,1,1\n"
     ]
    },
    {
     "name": "stdout",
     "output_type": "stream",
     "text": [
      "[ 1  2  3  3  2  1 -1 -2 -3  5  6 -1  2  0  2  1] [3 2 1 1]\n"
     ]
    },
    {
     "name": "stdin",
     "output_type": "stream",
     "text": [
      "Enter length of each divided array (n):  10\n"
     ]
    },
    {
     "name": "stdout",
     "output_type": "stream",
     "text": [
      "[[ 1  2  3  3  2  1 -1  0  0  0]\n",
      " [-2 -3  5  6 -1  2  0  0  0  0]\n",
      " [ 2  1  0  0  0  0  0  0  0  0]]\n",
      "[[  3   8  14  18  17  13   4   1   0  -1]\n",
      " [ -6 -13   7  23  11  15   9   1   2   0]\n",
      " [  6   7   4   3   1   0   0   0   0   0]]\n",
      "[  3   8  14  18  17  13   4  -5 -13   6  23  11  15   9   1   2   0   6\n",
      "   7   4   3   1   0   0   0   0   0] 27\n"
     ]
    }
   ],
   "source": [
    "#Overlap Add method\n",
    "import numpy as np \n",
    "xn = np.array(list(map(int, input('Enter Input signal: ').split(','))))\n",
    "hn = np.array(list(map(int, input('Enter Impulse response: ').split(','))))\n",
    "print(xn,hn)\n",
    "if len(xn)>=len(hn):\n",
    "    m = len(hn)\n",
    "    n = int(input('Enter length of each divided array (n): '))\n",
    "    l = n - m + 1\n",
    "    hn = np.pad(hn, (0, l - 1))\n",
    "    i = 0\n",
    "    newarray = []\n",
    "    while(i <= len(xn)):\n",
    "        j = 0\n",
    "        temp1 = [xn[j] for j in range(i,l+i) if j<len(xn)]\n",
    "        # if l+i <= len(xn): \n",
    "        temp1 = np.pad(temp1, (0, m - 1))\n",
    "        if len(temp1) < l + m - 1: \n",
    "            temp1 = np.pad(temp1, (0, l + m - 1 - len(temp1)))\n",
    "            # print(temp1)\n",
    "        newarray.append(np.array(temp1))\n",
    "        i = i + l\n",
    "    # print(newarray)\n",
    "    newarray = np.array(newarray)\n",
    "    print(newarray)\n",
    "    solutionarray = []\n",
    "    i = 0\n",
    "    j = 0\n",
    "    row = l + m - 1\n",
    "    column = l + m - 1\n",
    "    while(i <= len(xn)):\n",
    "        # print()\n",
    "        if j<len(newarray):\n",
    "            toeplitz = np.array(newarray[j])\n",
    "            for i in range (len(newarray[j])- 1):\n",
    "              newarray[j]= np.roll(newarray[j],1) #to cirular shift elements of array\n",
    "              toeplitz = np.concatenate((toeplitz,newarray[j]))\n",
    "            toeplitz.shape = (row,column)\n",
    "            # hn.shape = (row, 1)\n",
    "            # print(hn)\n",
    "            # print(toeplitz)\n",
    "            toeplitz = np.transpose(toeplitz)\n",
    "            # print(toeplitz)\n",
    "            solutionarray.append(np.array(np.dot(toeplitz, hn)))\n",
    "            j += 1\n",
    "        i = i + l\n",
    "    solutionarray = np.array(solutionarray)\n",
    "    # print(hn)\n",
    "    print(solutionarray)\n",
    "    endarray = []\n",
    "    for i in solutionarray: \n",
    "        for j in i:\n",
    "            endarray.append(j)\n",
    "    endarray = np.array(endarray)\n",
    "    # print(endarray)\n",
    "    for i in range(l, len(xn) + m - 1 - l, l):\n",
    "        # print()\n",
    "        # print(i)\n",
    "        removedarray = endarray[i:i+2*(m-1)]\n",
    "        # print(removedarray)\n",
    "        endarray = np.delete(endarray, slice(i,i+2*(m-1)))\n",
    "        # print(removedarray)\n",
    "        part1 = removedarray[0:m-1]\n",
    "        part2 = removedarray[m-1:2*(m-1)]\n",
    "        # print(part1,part2)\n",
    "        result = np.add(part1,part2)\n",
    "        endarray = np.insert(endarray, i, result)\n",
    "    print(endarray, len(endarray))\n",
    "            \n",
    "        \n",
    "        \n",
    "        "
   ]
  },
  {
   "cell_type": "code",
   "execution_count": null,
   "id": "efa7dd7a-abeb-4efe-bc9e-fe4d850cb0e0",
   "metadata": {},
   "outputs": [],
   "source": []
  }
 ],
 "metadata": {
  "kernelspec": {
   "display_name": "Python 3 (ipykernel)",
   "language": "python",
   "name": "python3"
  },
  "language_info": {
   "codemirror_mode": {
    "name": "ipython",
    "version": 3
   },
   "file_extension": ".py",
   "mimetype": "text/x-python",
   "name": "python",
   "nbconvert_exporter": "python",
   "pygments_lexer": "ipython3",
   "version": "3.11.2"
  }
 },
 "nbformat": 4,
 "nbformat_minor": 5
}
