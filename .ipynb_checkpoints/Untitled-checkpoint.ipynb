{
 "cells": [
  {
   "cell_type": "code",
   "execution_count": 1,
   "id": "8a0dc7e4-f48a-485e-93ba-9c9fd797413d",
   "metadata": {},
   "outputs": [
    {
     "name": "stdout",
     "output_type": "stream",
     "text": [
      "The DFT of the input sequence using Mathematical expression,N-point is:\n",
      " [1.+0.00000000e+00j 1.-1.41421356e+00j 1.+1.73191211e-16j\n",
      " 1.+1.41421356e+00j]\n",
      "inbuilt function:  [1.+0.j         1.-1.41421356j 1.+0.j         1.+1.41421356j]\n"
     ]
    }
   ],
   "source": [
    "import numpy as np \n",
    "import matplotlib.pyplot as plt\n",
    "\n",
    "t = np.arange(0,4,1)\n",
    "x = np.cos(np.pi*t/4)\n",
    "\n",
    "k = len(x)\n",
    "\n",
    "y = np.zeros(k,dtype='complex')\n",
    "\n",
    "for i in range (k):\n",
    "    sum = 0\n",
    "    for m in range (k):\n",
    "      sum += x[m]*np.exp(complex(-1j)*2*np.pi*i*m*float(1/k))\n",
    "    y[i] = sum\n",
    "\n",
    "print(\"The DFT of the input sequence using Mathematical expression,N-point is:\\n\",y)\n",
    "print('inbuilt function: ', np.fft.fft(x))"
   ]
  },
  {
   "cell_type": "code",
   "execution_count": null,
   "id": "efa7dd7a-abeb-4efe-bc9e-fe4d850cb0e0",
   "metadata": {},
   "outputs": [],
   "source": []
  }
 ],
 "metadata": {
  "kernelspec": {
   "display_name": "Python 3 (ipykernel)",
   "language": "python",
   "name": "python3"
  },
  "language_info": {
   "codemirror_mode": {
    "name": "ipython",
    "version": 3
   },
   "file_extension": ".py",
   "mimetype": "text/x-python",
   "name": "python",
   "nbconvert_exporter": "python",
   "pygments_lexer": "ipython3",
   "version": "3.11.2"
  }
 },
 "nbformat": 4,
 "nbformat_minor": 5
}
