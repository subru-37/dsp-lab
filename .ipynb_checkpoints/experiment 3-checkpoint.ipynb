{
 "cells": [
  {
   "attachments": {
    "c65a3b2b-a502-4810-9c51-1b5d40c76ad2.png": {
     "image/png": "[encoded data removed]"
    }
   },
   "cell_type": "markdown",
   "id": "df55ca73-a172-403f-b46c-283ae62373b0",
   "metadata": {},
   "source": [
    "![download.png](attachment:c65a3b2b-a502-4810-9c51-1b5d40c76ad2.png)"
   ]
  },
  {
   "cell_type": "code",
   "execution_count": 11,
   "id": "389798f8-8c57-4a01-ab32-b96aa4300e28",
   "metadata": {},
   "outputs": [
    {
     "name": "stdin",
     "output_type": "stream",
     "text": [
      "Enter the elements of the input sequence: 1,2,3,4\n",
      "Enter the elements of the impulse response: 1,2,3,4,5\n"
     ]
    },
    {
     "name": "stdout",
     "output_type": "stream",
     "text": [
      "[1 2 3 4 5] [1 2 3 4 0]\n",
      "1\n",
      "1\n",
      "1\n",
      "1\n",
      "1\n",
      "1\n",
      "1\n",
      "1\n",
      "1\n",
      "1\n",
      "1\n",
      "1\n",
      "1\n",
      "1\n",
      "1\n",
      "1\n",
      "The output sequence (using mathematical function) is: [ 1  4 10 20 30 34 31 20]\n",
      "The output sequence (using numpy.convolve) is: [ 1  4 10 20 30 34 31 20]\n"
     ]
    }
   ],
   "source": [
    "import numpy as np \n",
    "import matplotlib.pyplot as plt \n",
    "ft = np.array(input(\"Enter the elements of the input sequence:\").split(\",\")).astype(int)\n",
    "gt = np.array(input(\"Enter the elements of the impulse response:\").split(\",\")).astype(int)\n",
    "ftn=ft\n",
    "hn=gt\n",
    "length = len(ft) + len(gt) - 1\n",
    "y = np.zeros(length)\n",
    "if len(ft)<len(gt):\n",
    "  (ft,gt) = (gt,ft)\n",
    "if len(ft)!=len(gt):\n",
    "  if len(ft)>len(gt):\n",
    "    z = np.zeros(len(ft)-len(gt)).astype(int)\n",
    "    gt = np.concatenate((gt,z))\n",
    "print(ft,gt)\n",
    "size = len(ft) # the value of k\n",
    "#convolution operation:\n",
    "for i in range (length):#n\n",
    "  sum=0\n",
    "  for j in range(size):#k\n",
    "    w = i-j\n",
    "    if (w < 0) or (w > size-1): #no negative index, also index should not be out of bounds\n",
    "      sum+=0\n",
    "    else:\n",
    "      sum+=ft[j]*gt[w]\n",
    "  y[i] = sum\n",
    "print(\"The output sequence (using mathematical function) is:\", y.astype(int))\n",
    "\n",
    "#verifying the output\n",
    "print(\"The output sequence (using numpy.convolve) is:\", np.convolve(ftn,hn))\n",
    "    \n",
    "\n"
   ]
  },
  {
   "cell_type": "code",
   "execution_count": 31,
   "id": "be0353c4-fd7c-4f2b-8ff3-a5d9fe4351c2",
   "metadata": {},
   "outputs": [
    {
     "name": "stdin",
     "output_type": "stream",
     "text": [
      "Enter the elements of the input sequence: 1,2,3,4,5,6\n",
      "Enter the elements of the impulse response: 2,3,4,5\n"
     ]
    },
    {
     "name": "stdout",
     "output_type": "stream",
     "text": [
      "[[2. 0. 0. 0. 0. 0.]\n",
      " [3. 2. 0. 0. 0. 0.]\n",
      " [4. 3. 2. 0. 0. 0.]\n",
      " [5. 4. 3. 2. 0. 0.]\n",
      " [0. 5. 4. 3. 2. 0.]\n",
      " [0. 0. 5. 4. 3. 2.]\n",
      " [0. 0. 0. 5. 4. 3.]\n",
      " [0. 0. 0. 0. 5. 4.]\n",
      " [0. 0. 0. 0. 0. 5.]]\n",
      "The output sequence (using toeplitz matrix) is: [ 2  7 16 30 44 58 58 49 30]\n",
      "The output sequence (using numpy.convolve) is: [ 0.  0.  0.  0.  0.  2.  7. 16. 30. 44. 58. 58. 49. 30.]\n"
     ]
    }
   ],
   "source": [
    "import numpy as np \n",
    "import matplotlib.pyplot as plt \n",
    "ft = np.array(input(\"Enter the elements of the input sequence:\").split(\",\")).astype(int)\n",
    "gt = np.array(input(\"Enter the elements of the impulse response:\").split(\",\")).astype(int)\n",
    "\n",
    "row = len(ft)\n",
    "column = len(ft)+len(gt)-1\n",
    "\n",
    "if len(gt)<column:\n",
    "  z = np.zeros(column-len(gt))\n",
    "  gt= np.concatenate((gt,z))\n",
    "\n",
    "#toeplitz matrix\n",
    "toeplitz = gt\n",
    "\n",
    "for i in range (row-1):\n",
    "  gt= np.roll(gt,1) #to cirular shift elements of array\n",
    "  toeplitz = np.concatenate((toeplitz,gt))\n",
    "toeplitz.shape = (row,column)\n",
    "toeplitz = np.transpose(toeplitz)\n",
    "print(toeplitz)\n",
    "\n",
    "print(\"The output sequence (using toeplitz matrix) is:\",np.dot(toeplitz,ft).astype(int))\n",
    "#verifying the output\n",
    "print(\"The output sequence (using numpy.convolve) is:\", np.convolve(ft,gt))"
   ]
  },
  {
   "cell_type": "code",
   "execution_count": 9,
   "id": "0e8993e1-98ba-4814-84b4-f0305aaa1ef6",
   "metadata": {},
   "outputs": [
    {
     "name": "stdin",
     "output_type": "stream",
     "text": [
      "enter i/p sequence elements 1,2,3,4\n",
      "enter impulse resp elements 1,2,3,4,5\n"
     ]
    },
    {
     "name": "stdout",
     "output_type": "stream",
     "text": [
      "1\n",
      "1\n",
      "1\n",
      "1\n",
      "1\n",
      "1\n",
      "1\n",
      "1\n",
      "1\n",
      "1\n",
      "1\n",
      "1\n",
      "1\n",
      "1\n",
      "1\n",
      "1\n",
      "[1 2 3 4 5] [1 2 3 4 0]\n",
      "o/p sequence using mathematical expression is: [ 0  0  0  0  0  0  0 20]\n",
      "o/p sequence using numpy.convolve is: [ 1  4 10 20 30 34 31 20]\n"
     ]
    }
   ],
   "source": [
    "import numpy as np\n",
    "import matplotlib.pyplot as plt\n",
    "x=np.array(input(\"enter i/p sequence elements\").split(\",\")).astype(int)\n",
    "h=np.array(input(\"enter impulse resp elements\").split(\",\")).astype(int)\n",
    "xn=x\n",
    "hn=h\n",
    "total=len(x)+len(h)-1\n",
    "y=np.zeros(total)\n",
    "#making len of x and y same if needed\n",
    "if len(x)<len(h):\n",
    "  (x,h)=(h,x)\n",
    "  if len(x)!=len(h):\n",
    "    if len(x)>len(h):\n",
    "      z=np.zeros(len(x)-len(h)).astype(int)\n",
    "      h=np.concatenate((h,z))\n",
    "size=len(x)\n",
    "#convolution\n",
    "for i in range (total):#n\n",
    "  sum=0\n",
    "  for j in range (size):#k\n",
    "    w=i-j\n",
    "    if (w<0) or (w>size-1):\n",
    "      sum+=0\n",
    "      print(1)\n",
    "    else:\n",
    "      sum+=x[j]*h[w]\n",
    "y[i]=sum\n",
    "print(x,h)\n",
    "print(\"o/p sequence using mathematical expression is:\",y.astype(int))\n",
    "print(\"o/p sequence using numpy.convolve is:\",np.convolve(xn,hn))"
   ]
  },
  {
   "cell_type": "code",
   "execution_count": null,
   "id": "2298691a-69e5-4141-b56e-c5da708ba9a9",
   "metadata": {},
   "outputs": [],
   "source": []
  }
 ],
 "metadata": {
  "kernelspec": {
   "display_name": "Python 3 (ipykernel)",
   "language": "python",
   "name": "python3"
  },
  "language_info": {
   "codemirror_mode": {
    "name": "ipython",
    "version": 3
   },
   "file_extension": ".py",
   "mimetype": "text/x-python",
   "name": "python",
   "nbconvert_exporter": "python",
   "pygments_lexer": "ipython3",
   "version": "3.11.2"
  }
 },
 "nbformat": 4,
 "nbformat_minor": 5
}
