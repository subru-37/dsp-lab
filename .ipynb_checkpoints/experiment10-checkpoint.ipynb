{
 "cells": [
  {
   "cell_type": "code",
   "execution_count": 252,
   "id": "58c97d11-1980-4355-b120-ec862f797402",
   "metadata": {},
   "outputs": [
    {
     "name": "stdin",
     "output_type": "stream",
     "text": [
      "Enter input signal 1,1,1,1,2,3,4,5\n",
      "enter N point 3\n"
     ]
    },
    {
     "name": "stdout",
     "output_type": "stream",
     "text": [
      "[(18+0j), (0.4142140000000001+7.242642j), (-2+2j), (-2.4142140000000003+1.242642j), (-2+0j), (-2.4142140000000003-1.242642j), (-2-2j), (0.4142140000000001-7.242642j)]\n"
     ]
    }
   ],
   "source": []
  }
 ],
 "metadata": {
  "kernelspec": {
   "display_name": "Python 3 (ipykernel)",
   "language": "python",
   "name": "python3"
  },
  "language_info": {
   "codemirror_mode": {
    "name": "ipython",
    "version": 3
   },
   "file_extension": ".py",
   "mimetype": "text/x-python",
   "name": "python",
   "nbconvert_exporter": "python",
   "pygments_lexer": "ipython3",
   "version": "3.11.2"
  }
 },
 "nbformat": 4,
 "nbformat_minor": 5
}
