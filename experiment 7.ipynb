{
 "cells": [
  {
   "attachments": {
    "image.png": {
     "image/png": "[encoded data removed]"
    }
   },
   "cell_type": "markdown",
   "metadata": {},
   "source": [
    "##### Properties of DFT\n",
    "\n",
    "##### DATE: 29/09/2023 \n",
    "\n",
    "##### AIM:\n",
    "Write a program to verify the following properties of DFT \n",
    "1. Duality \n",
    "2) Multiplication \n",
    "3) Circular convolution \n",
    "4) Parseval’s theorem. \n",
    "\n",
    "\n",
    "\n",
    "##### SOFTWARE USED:\n",
    "Python\n",
    "\n",
    "##### THEORY:\n",
    "1. Duality property: \n",
    "Let us consider a signal x(n), whose DFT is given as X(k). Let the finite duration sequence be XNN. Then according to duality theorem, \n",
    "If, x(n)⟷X(K) => X(N)⟷Nx[((−k)) . \n",
    "So, by using this theorem if we know DFT, we can easily find the finite duration sequence. \n",
    "\n",
    "2. Multiplication: \n",
    "If there are two signal x1(n) and x2(n) and their respective DFTs are X1(k) and X2(K), then multiplication of signals in time sequence corresponds to circular convolution of their DFTs. \n",
    "If, x1(n)⟷X1(K) & x2(n)⟷X2(K) \n",
    "then, x1(n) x x2(n)⟷X1(K)©X2(K) => Circular convolution \n",
    "\n",
    "3. Circular convolution: \n",
    "Circular convolution using Matrix method represents the two given sequence x1(n) and x2(n) in matrix form. \n",
    "One of the given sequences is repeated via circular shift of one sample at a time to form an N X N matrix. \n",
    "The other sequence is represented as column matrix. \n",
    "The multiplication of two matrices give the result of circular convolution.\n",
    "4. Parseval’s theorem: \n",
    "The Parseval’s theorem expresses the energy of a signal in time-domain in terms of the average energy in its frequency components.\n",
    "![image.png](attachment:image.png)\n",
    "\n",
    "##### CODE:"
   ]
  },
  {
   "cell_type": "markdown",
   "metadata": {},
   "source": []
  },
  {
   "cell_type": "code",
   "execution_count": 2,
   "id": "657a9828-7a24-4b16-b76c-7234a5f85a51",
   "metadata": {},
   "outputs": [],
   "source": [
    "import numpy as np\n",
    "from scipy.signal import convolve2d\n",
    "import matplotlib.pyplot as plt"
   ]
  },
  {
   "cell_type": "code",
   "execution_count": 3,
   "id": "3c9c1190-3c3c-4f1e-9667-949d570b6e61",
   "metadata": {},
   "outputs": [
    {
     "name": "stdout",
     "output_type": "stream",
     "text": [
      "5 5 [1.+0.j 2.+0.j 3.+0.j 4.+0.j 5.+0.j] [2.+0.j 3.+0.j 4.+0.j 5.+0.j 6.+0.j] 3 4\n"
     ]
    }
   ],
   "source": [
    "def repeat():\n",
    "    x1 = np.array(input(\"Enter the elements of the 1st input sequence:\").split(\",\")).astype(complex)\n",
    "    x2 = np.array(input(\"Enter the elements of the 2nd input sequence:\").split(\",\")).astype(complex)\n",
    "    k1 = len(x1)\n",
    "    k2 = len(x2)\n",
    "    a1 = int(input('enter constant for 1st input sequence'))\n",
    "    a2 = int(input('enter constant for 2nd input sequence'))\n",
    "    print(k1,k2,x1,x2,a1,a2)\n",
    "    return k1,k2,x1,x2,a1,a2\n",
    "k1,k2,x1,x2,a1,a2 = repeat()"
   ]
  },
  {
   "cell_type": "code",
   "execution_count": 7,
   "id": "e3166219-a4d4-49b1-9584-9634b70c2af6",
   "metadata": {},
   "outputs": [],
   "source": [
    "def dft(x,k):\n",
    "    y = np.zeros(k,dtype = 'complex')\n",
    "    for i in range (k):\n",
    "        sum = 0\n",
    "        for m in range (k):\n",
    "            sum += x[m]*np.exp(complex(-1j)*2*np.pi*i*m*float(1/k))\n",
    "        y[i] = sum\n",
    "    return y\n",
    "def idft(x,k):\n",
    "    y = np.zeros(k,dtype = 'complex')\n",
    "    \n",
    "    for i in range (k):\n",
    "      sum = 0\n",
    "      for m in range (k):\n",
    "        sum += x[m]*np.exp(complex(1j)*2*np.pi*i*m*float(1/k))\n",
    "      y[i] = sum/k\n",
    "    return y\n",
    "def fconvolve(x,y):\n",
    "    return np.fft.ifft( np.fft.fft(x)*np.fft.fft(y) )\n",
    "def tconvolve(x,y):\n",
    "    twiddle = []\n",
    "    hn = []\n",
    "    for i in range(len(x)):\n",
    "        if i != 0:\n",
    "            x = np.roll(x,1) \n",
    "        twiddle.append(x)\n",
    "        hn.append([y[i]])\n",
    "    # print(twiddle)\n",
    "    print(np.array(hn))\n",
    "    print(np.transpose(twiddle))\n",
    "    # print(np.dot(np.transpose(twiddle),hn))\n",
    "    return np.transpose(np.dot(np.transpose(twiddle),hn))"
   ]
  },
  {
   "cell_type": "code",
   "execution_count": 4,
   "id": "e489f433-6bfe-4c3a-8c15-051ccd80869b",
   "metadata": {},
   "outputs": [
    {
     "name": "stdout",
     "output_type": "stream",
     "text": [
      "Unequal length of arrays, try again\n",
      "5 5 [1.+0.j 2.+0.j 3.+0.j 4.+0.j 5.+0.j] [2.+0.j 3.+0.j 4.+0.j 5.+0.j 6.+0.j] 2 3\n",
      "5 5 [1.+0.j 2.+0.j 3.+0.j 4.+0.j 5.+0.j] [2.+0.j 3.+0.j 4.+0.j 5.+0.j 6.+0.j] 2 3\n",
      "Linearity verified: \n",
      "LHS: \n",
      "[ 90.  +0.j    -12.5+17.205j -12.5 +4.061j -12.5 -4.061j -12.5-17.205j]\n",
      "RHS: \n",
      "[ 90.  +0.j    -12.5+17.205j -12.5 +4.061j -12.5 -4.061j -12.5-17.205j]\n"
     ]
    }
   ],
   "source": [
    "def check():\n",
    "    print('Unequal length of arrays, try again')\n",
    "    k1,k2,x1,x2,a1,a2 = repeat()\n",
    "    if k1!=k2: \n",
    "        check()\n",
    "    return k1,k2,x1,x2,a1,a2\n",
    "k1,k2,x1,x2,a1,a2 = check()\n",
    "if k1!=k2: \n",
    "        k1,k2,x1,x2,a1,a2 = check()\n",
    "X1 = dft(x1,k1)\n",
    "X2 = dft(x2,k2)\n",
    "print(k1,k2,x1,x2,a1,a2)\n",
    "LHS = dft((a1*x1) + (a2*x2),k1)\n",
    "RHS = (a1*X1) + (a2*X2)\n",
    "flag = 1\n",
    "LHS = np.round_(LHS, decimals = 3)\n",
    "RHS = np.round_(RHS, decimals = 3)\n",
    "for i in range(k1):\n",
    "    if LHS[i] != RHS[i]:\n",
    "        print(LHS[i])\n",
    "        print(RHS[i])\n",
    "        flag = 0\n",
    "        break\n",
    "if flag == 1:\n",
    "    print('Linearity verified: ')\n",
    "    print('LHS: ', LHS, 'RHS: ', RHS, sep='\\n')\n",
    "else:\n",
    "    print('Linearity Failed')\n",
    "    print('LHS: ', LHS, 'RHS: ', RHS, sep='\\n')"
   ]
  },
  {
   "cell_type": "code",
   "execution_count": 5,
   "id": "759987ac-63d7-4f04-a685-88091b7167c4",
   "metadata": {},
   "outputs": [
    {
     "name": "stdout",
     "output_type": "stream",
     "text": [
      "Multiplication verified: \n",
      "LHS: \n",
      "[ 70.  +0.j  -12.8+27.5j -17.2 +6.5j -17.2 -6.5j -12.8-27.5j]\n",
      "RHS: \n",
      "[ 70.  +0.j  -12.8+27.5j -17.2 +6.5j -17.2 -6.5j -12.8-27.5j]\n"
     ]
    }
   ],
   "source": [
    "LHS = dft(x1*x2, k1)\n",
    "RHS = fconvolve(X1,X2)/k1\n",
    "flag = 1\n",
    "LHS = np.round_(LHS, decimals = 1)\n",
    "RHS = np.round_(RHS, decimals = 1)\n",
    "for i in range(k1):\n",
    "    if LHS[i] != RHS[i]:\n",
    "        print(LHS[i])\n",
    "        print(RHS[i])\n",
    "        flag = 0\n",
    "        break\n",
    "if flag == 1:\n",
    "    print('Multiplication verified: ')\n",
    "    print('LHS: ', LHS, 'RHS: ', RHS, sep='\\n')\n",
    "else:\n",
    "    print('Multiplication property Failed')\n",
    "    print('LHS: ', LHS, 'RHS: ', RHS, sep='\\n')"
   ]
  },
  {
   "cell_type": "code",
   "execution_count": 8,
   "id": "b2696044-ebb6-47e2-8f39-75baf88f7530",
   "metadata": {},
   "outputs": [
    {
     "name": "stdout",
     "output_type": "stream",
     "text": [
      "[[2.+0.j]\n",
      " [3.+0.j]\n",
      " [4.+0.j]\n",
      " [5.+0.j]\n",
      " [6.+0.j]]\n",
      "[[1.+0.j 5.+0.j 4.+0.j 3.+0.j 2.+0.j]\n",
      " [2.+0.j 1.+0.j 5.+0.j 4.+0.j 3.+0.j]\n",
      " [3.+0.j 2.+0.j 1.+0.j 5.+0.j 4.+0.j]\n",
      " [4.+0.j 3.+0.j 2.+0.j 1.+0.j 5.+0.j]\n",
      " [5.+0.j 4.+0.j 3.+0.j 2.+0.j 1.+0.j]]\n",
      "Multiplication verified: \n",
      "LHS: \n",
      "[60.+0.j 65.+0.j 65.+0.j 60.+0.j 50.+0.j]\n",
      "RHS: \n",
      "[60.-0.j 65.+0.j 65.+0.j 60.+0.j 50.-0.j]\n"
     ]
    }
   ],
   "source": [
    "LHS = tconvolve(x1,x2)\n",
    "RHS = idft(X1*X2,k1)\n",
    "flag = 1\n",
    "LHS = np.round_(LHS, decimals = 1)\n",
    "RHS = np.round_(RHS, decimals = 1)\n",
    "for i in range(k1):\n",
    "    if LHS[0][i] != RHS[i]:\n",
    "        print(LHS[0][i])\n",
    "        print(RHS[i])\n",
    "        flag = 0\n",
    "        break\n",
    "if flag == 1:\n",
    "    print('Multiplication verified: ')\n",
    "    print('LHS: ', LHS[0], 'RHS: ', RHS, sep='\\n')\n",
    "else:\n",
    "    print('Multiplication property Failed')\n",
    "    print('LHS: ', LHS[0], 'RHS: ', RHS, sep='\\n')"
   ]
  },
  {
   "cell_type": "code",
   "execution_count": 9,
   "id": "cc3d2df6-50cc-4977-afb4-c76191ba15cd",
   "metadata": {},
   "outputs": [
    {
     "name": "stdout",
     "output_type": "stream",
     "text": [
      "Parseval's theorem verified: for input1\n",
      "LHS: \n",
      "55.0\n",
      "RHS: \n",
      "55.0\n",
      "Parseval's theorem verified: for input1\n",
      "LHS: \n",
      "90.0\n",
      "RHS: \n",
      "90.0\n"
     ]
    },
    {
     "ename": "",
     "evalue": "",
     "output_type": "error",
     "traceback": [
      "\u001b[1;31mThe Kernel crashed while executing code in the the current cell or a previous cell. Please review the code in the cell(s) to identify a possible cause of the failure. Click <a href='https://aka.ms/vscodeJupyterKernelCrash'>here</a> for more info. View Jupyter <a href='command:jupyter.viewOutput'>log</a> for further details."
     ]
    }
   ],
   "source": [
    "LHS1 = 0\n",
    "RHS1 = 0\n",
    "LHS2 = 0\n",
    "RHS2 = 0\n",
    "for i in range(len(x1)):\n",
    "    LHS1 += abs(x1[i])**2\n",
    "    LHS2 += abs(x2[i])**2\n",
    "    RHS1 += abs(X1[i])**2\n",
    "    RHS2 += abs(X2[i])**2\n",
    "LHS1 = np.round_(LHS1, decimals = 3)\n",
    "LHS2 = np.round_(LHS2, decimals = 3)\n",
    "RHS1 = np.round_(RHS1, decimals = 3)\n",
    "RHS2 = np.round_(RHS2, decimals = 3)\n",
    "RHS1 = RHS1/k1\n",
    "RHS2 = RHS2/k1\n",
    "if LHS1 == RHS1:\n",
    "    print(\"Parseval's theorem verified: for input1\")\n",
    "    print('LHS: ', LHS1, 'RHS: ', RHS1, sep='\\n')\n",
    "else:\n",
    "    print(\"Parseval's theorem Failed\")\n",
    "    print('LHS: ', LHS1, 'RHS: ', RHS1, sep='\\n')\n",
    "if LHS2 == RHS2:\n",
    "    print(\"Parseval's theorem verified: for input1\")\n",
    "    print('LHS: ', LHS2, 'RHS: ', RHS2, sep='\\n')\n",
    "else:\n",
    "    print(\"Parseval's theorem Failed\")\n",
    "    print('LHS: ', LHS2, 'RHS: ', RHS2, sep='\\n')"
   ]
  },
  {
   "cell_type": "markdown",
   "metadata": {},
   "source": [
    "##### RESULT: \n",
    "Successfully proved properties of DFT\n"
   ]
  }
 ],
 "metadata": {
  "kernelspec": {
   "display_name": "Python 3 (ipykernel)",
   "language": "python",
   "name": "python3"
  },
  "language_info": {
   "codemirror_mode": {
    "name": "ipython",
    "version": 3
   },
   "file_extension": ".py",
   "mimetype": "text/x-python",
   "name": "python",
   "nbconvert_exporter": "python",
   "pygments_lexer": "ipython3",
   "version": "3.11.2"
  }
 },
 "nbformat": 4,
 "nbformat_minor": 5
}
