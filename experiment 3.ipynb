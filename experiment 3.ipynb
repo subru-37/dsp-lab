{
 "cells": [
  {
   "attachments": {
    "image-2.png": {
     "image/png": "[encoded data removed]"
    },
    "image.png": {
     "image/png": "[encoded data removed]"
    }
   },
   "cell_type": "markdown",
   "metadata": {},
   "source": [
    "##### Linear Convolution\n",
    "\n",
    "##### DATE: 08/09/2023\n",
    "\n",
    "##### AIM:\n",
    "Write a program to find linear convolution using :\n",
    "1. Mathematical expression/ Direct equation\n",
    "2. Toeplitz matrix\n",
    "\n",
    "\n",
    "##### SOFTWARE USED:\n",
    "Python\n",
    "\n",
    "##### THEORY:\n",
    "1. DIRECT METHOD :\n",
    "<p>Given an LTI (Linear Time Invariant) system with impulse response h[n] and an input sequence x[n], the output of the system y[n] is obtained by convolving the input sequence and impulse response.</p>\n",
    "\n",
    "![image.png](attachment:image.png)\n",
    "\n",
    "where, the sequence is of length N and is of length M.\n",
    "\n",
    "2.  TOEPLITZ METHOD:\n",
    "When the sequences and are represented as matrices, the convolution operation can be equivalently represented as :\n",
    "\n",
    "![image-2.png](attachment:image-2.png)\n",
    "\n",
    "The matrix representing the incremental delays of h[n] used in the above equation is a special form of matrix called Toeplitz matrix. Toeplitz matrixes have constant entries along their diagonals. Toeplitz matrices are used to model systems that posses shift invariant properties. The property of shift invariance is evident from the matrix structure itself. Since we are modeling a Linear Time Invariant system, Toeplitz matrices are our natural choice.\n",
    "\n",
    "##### CODE:\n"
   ]
  },
  {
   "cell_type": "markdown",
   "metadata": {},
   "source": []
  },
  {
   "cell_type": "code",
   "execution_count": 2,
   "id": "389798f8-8c57-4a01-ab32-b96aa4300e28",
   "metadata": {},
   "outputs": [
    {
     "name": "stdout",
     "output_type": "stream",
     "text": [
      "[1 2 3 4 5] [1 2 3 4 0]\n",
      "0 0 0\n",
      "1 0 1\n",
      "1 1 0\n",
      "2 0 2\n",
      "2 1 1\n",
      "2 2 0\n",
      "3 0 3\n",
      "3 1 2\n",
      "3 2 1\n",
      "3 3 0\n",
      "4 0 4\n",
      "4 1 3\n",
      "4 2 2\n",
      "4 3 1\n",
      "4 4 0\n",
      "5 1 4\n",
      "5 2 3\n",
      "5 3 2\n",
      "5 4 1\n",
      "6 2 4\n",
      "6 3 3\n",
      "6 4 2\n",
      "7 3 4\n",
      "7 4 3\n",
      "The output sequence (using mathematical function) is: [ 1  4 10 20 30 34 31 20]\n",
      "The output sequence (using numpy.convolve) is: [ 1  4 10 20 30 34 31 20]\n"
     ]
    },
    {
     "ename": "",
     "evalue": "",
     "output_type": "error",
     "traceback": [
      "\u001b[1;31mThe Kernel crashed while executing code in the the current cell or a previous cell. Please review the code in the cell(s) to identify a possible cause of the failure. Click <a href='https://aka.ms/vscodeJupyterKernelCrash'>here</a> for more info. View Jupyter <a href='command:jupyter.viewOutput'>log</a> for further details."
     ]
    }
   ],
   "source": [
    "import numpy as np \n",
    "import matplotlib.pyplot as plt \n",
    "ft = np.array(input(\"Enter the elements of the input sequence:\").split(\",\")).astype(int)\n",
    "gt = np.array(input(\"Enter the elements of the impulse response:\").split(\",\")).astype(int)\n",
    "ftn=ft\n",
    "hn=gt\n",
    "length = len(ft) + len(gt) - 1\n",
    "y = np.zeros(length)\n",
    "if len(ft)<len(gt):\n",
    "  (ft,gt) = (gt,ft)\n",
    "if len(ft)!=len(gt):\n",
    "  if len(ft)>len(gt):\n",
    "    z = np.zeros(len(ft)-len(gt)).astype(int)\n",
    "    gt = np.concatenate((gt,z))\n",
    "print(ft,gt)\n",
    "size = len(ft) # the value of k\n",
    "#convolution operation:\n",
    "for i in range (length):#n\n",
    "  sum=0\n",
    "  for j in range(size):#k\n",
    "    w = i-j\n",
    "    if (w < 0) or (w > size-1): #no negative index, also index should not be out of bounds\n",
    "      sum+=0\n",
    "    else:\n",
    "      sum+=ft[j]*gt[w]\n",
    "  y[i] = sum\n",
    "print(\"The output sequence (using mathematical function) is:\", y.astype(int))\n",
    "\n",
    "#verifying the output\n",
    "print(\"The output sequence (using numpy.convolve) is:\", np.convolve(ftn,hn))\n",
    "    \n",
    "\n"
   ]
  },
  {
   "cell_type": "code",
   "execution_count": 2,
   "id": "be0353c4-fd7c-4f2b-8ff3-a5d9fe4351c2",
   "metadata": {},
   "outputs": [
    {
     "name": "stdout",
     "output_type": "stream",
     "text": [
      "[2. 1. 3. 3. 4. 0. 0. 0. 0. 0. 0. 0. 0. 0. 0. 0. 0.]\n",
      "[[2. 1. 3. 3. 4. 0. 0. 0. 0. 0. 0. 0. 0. 0. 0. 0. 0.]\n",
      " [0. 2. 1. 3. 3. 4. 0. 0. 0. 0. 0. 0. 0. 0. 0. 0. 0.]\n",
      " [0. 0. 2. 1. 3. 3. 4. 0. 0. 0. 0. 0. 0. 0. 0. 0. 0.]\n",
      " [0. 0. 0. 2. 1. 3. 3. 4. 0. 0. 0. 0. 0. 0. 0. 0. 0.]\n",
      " [0. 0. 0. 0. 2. 1. 3. 3. 4. 0. 0. 0. 0. 0. 0. 0. 0.]\n",
      " [0. 0. 0. 0. 0. 2. 1. 3. 3. 4. 0. 0. 0. 0. 0. 0. 0.]\n",
      " [0. 0. 0. 0. 0. 0. 2. 1. 3. 3. 4. 0. 0. 0. 0. 0. 0.]\n",
      " [0. 0. 0. 0. 0. 0. 0. 2. 1. 3. 3. 4. 0. 0. 0. 0. 0.]\n",
      " [0. 0. 0. 0. 0. 0. 0. 0. 2. 1. 3. 3. 4. 0. 0. 0. 0.]\n",
      " [0. 0. 0. 0. 0. 0. 0. 0. 0. 2. 1. 3. 3. 4. 0. 0. 0.]\n",
      " [0. 0. 0. 0. 0. 0. 0. 0. 0. 0. 2. 1. 3. 3. 4. 0. 0.]\n",
      " [0. 0. 0. 0. 0. 0. 0. 0. 0. 0. 0. 2. 1. 3. 3. 4. 0.]\n",
      " [0. 0. 0. 0. 0. 0. 0. 0. 0. 0. 0. 0. 2. 1. 3. 3. 4.]]\n",
      "[[2. 0. 0. 0. 0. 0. 0. 0. 0. 0. 0. 0. 0.]\n",
      " [1. 2. 0. 0. 0. 0. 0. 0. 0. 0. 0. 0. 0.]\n",
      " [3. 1. 2. 0. 0. 0. 0. 0. 0. 0. 0. 0. 0.]\n",
      " [3. 3. 1. 2. 0. 0. 0. 0. 0. 0. 0. 0. 0.]\n",
      " [4. 3. 3. 1. 2. 0. 0. 0. 0. 0. 0. 0. 0.]\n",
      " [0. 4. 3. 3. 1. 2. 0. 0. 0. 0. 0. 0. 0.]\n",
      " [0. 0. 4. 3. 3. 1. 2. 0. 0. 0. 0. 0. 0.]\n",
      " [0. 0. 0. 4. 3. 3. 1. 2. 0. 0. 0. 0. 0.]\n",
      " [0. 0. 0. 0. 4. 3. 3. 1. 2. 0. 0. 0. 0.]\n",
      " [0. 0. 0. 0. 0. 4. 3. 3. 1. 2. 0. 0. 0.]\n",
      " [0. 0. 0. 0. 0. 0. 4. 3. 3. 1. 2. 0. 0.]\n",
      " [0. 0. 0. 0. 0. 0. 0. 4. 3. 3. 1. 2. 0.]\n",
      " [0. 0. 0. 0. 0. 0. 0. 0. 4. 3. 3. 1. 2.]\n",
      " [0. 0. 0. 0. 0. 0. 0. 0. 0. 4. 3. 3. 1.]\n",
      " [0. 0. 0. 0. 0. 0. 0. 0. 0. 0. 4. 3. 3.]\n",
      " [0. 0. 0. 0. 0. 0. 0. 0. 0. 0. 0. 4. 3.]\n",
      " [0. 0. 0. 0. 0. 0. 0. 0. 0. 0. 0. 0. 4.]]\n",
      "The output sequence (using toeplitz matrix) is: [ 6  7 23 23 53 45 67 64 85 80 88 88 71 54 41 25 12]\n",
      "The output sequence (using numpy.convolve) is: [ 0.  0.  0.  0.  0.  0.  0.  0.  0.  0.  0.  0.  6.  7. 23. 23. 53. 45.\n",
      " 67. 64. 85. 80. 88. 88. 71. 54. 41. 25. 12.]\n"
     ]
    }
   ],
   "source": [
    "import numpy as np \n",
    "import matplotlib.pyplot as plt \n",
    "ft = np.array(input(\"Enter the elements of the input sequence:\").split(\",\")).astype(int)\n",
    "gt = np.array(input(\"Enter the elements of the impulse response:\").split(\",\")).astype(int)\n",
    "\n",
    "row = len(ft)\n",
    "column = len(ft)+len(gt)-1\n",
    "\n",
    "if len(gt)<column:\n",
    "  z = np.zeros(column-len(gt))\n",
    "  gt= np.concatenate((gt,z))\n",
    "\n",
    "#toeplitz matrix\n",
    "toeplitz = gt\n",
    "print(gt)\n",
    "for i in range (row-1):\n",
    "  gt= np.roll(gt,1) #to cirular shift elements of array\n",
    "  toeplitz = np.concatenate((toeplitz,gt))\n",
    "toeplitz.shape = (row,column)\n",
    "print(toeplitz)\n",
    "toeplitz = np.transpose(toeplitz)\n",
    "print(toeplitz)\n",
    "\n",
    "print(\"The output sequence (using toeplitz matrix) is:\",np.dot(toeplitz,ft).astype(int))\n",
    "#verifying the output\n",
    "print(\"The output sequence (using numpy.convolve) is:\", np.convolve(ft,gt))"
   ]
  },
  {
   "cell_type": "markdown",
   "metadata": {},
   "source": [
    "##### RESULT: \n",
    "Successfully performed linear convolution using direct method and toeplitz method."
   ]
  }
 ],
 "metadata": {
  "kernelspec": {
   "display_name": "Python 3 (ipykernel)",
   "language": "python",
   "name": "python3"
  },
  "language_info": {
   "codemirror_mode": {
    "name": "ipython",
    "version": 3
   },
   "file_extension": ".py",
   "mimetype": "text/x-python",
   "name": "python",
   "nbconvert_exporter": "python",
   "pygments_lexer": "ipython3",
   "version": "3.11.2"
  }
 },
 "nbformat": 4,
 "nbformat_minor": 5
}
