{
 "cells": [
  {
   "cell_type": "markdown",
   "metadata": {},
   "source": [
    "##### Audio Loopback\n",
    "\n",
    "##### Date: 27/11/2023\n",
    "\n",
    "#### AIM: \n",
    "Write a code to reads pairs of left and right channel samples from the codec ADC and loops them back out to the codec DAC.\n",
    "\n",
    "##### CODE:\n",
    "```\n",
    "#include <dsk6713.h>\n",
    "#include <dsk6713_aic23.h>\n",
    "void main(void){\n",
    "    DSK6713_AIC23_Config config =\n",
    "    DSK6713_AIC23_DEFAULTCONFIG;\n",
    "    DSK6713_AIC23_CodecHandle hCodec;\n",
    "    Uint32 sample_pair = 0;\n",
    "    DSK6713_init(); /* In the BSL library */\n",
    "    /* Start the codec */\n",
    "    hCodec = DSK6713_AIC23_openCodec(0, &config);\n",
    "    /* Change the sampling rate to 16 kHz */\n",
    "    DSK6713_AIC23_setFreq(hCodec,\n",
    "    DSK6713_AIC23_FREQ_16KHZ);\n",
    "    /* Read left and right channel samples from the ADC and loop */\n",
    "    /* them back out to the DAC. */\n",
    "    for (;;)\n",
    "\n",
    "    while (!DSK6713_AIC23_read(hCodec, &sample_pair));\n",
    "    while (!DSK6713_AIC23_write(hCodec, sample_pair));\n",
    "}\n",
    "\n",
    "```\n",
    "\n",
    "##### Procedure: \n",
    "Audio Loopback: Code below reads pairs of left and right channel samples from the codec ADC and loops them back out to the codec DAC. The BSL\n",
    "function DSK6713_AIC23_read() is used to read a pair of samples from ADC and the function DSK6713_AIC23_write() isused to write a pair of\n",
    "samples to the DAC. Both functions use polling to read/write samples and returns 0 if codec is not ready and returns 1 if read/write is successful. The\n",
    "while loop continues till read/write is successful. Note that the function DSK6713_AIC23_read() uses a pointer variable.\n",
    "\n",
    "Build and Debug the program. Connect a 3.5mm aux cable from the headphone out of your PC (or phone). Connect a pair of headphones to the headphone out of the DSK. Verify that loopback is working.\n",
    "\n",
    "##### Result:\n",
    "Audio has been looped back and intended successfully\n"
   ]
  }
 ],
 "metadata": {
  "language_info": {
   "name": "python"
  }
 },
 "nbformat": 4,
 "nbformat_minor": 2
}
