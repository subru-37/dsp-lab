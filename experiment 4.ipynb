{
 "cells": [
  {
   "cell_type": "code",
   "execution_count": 2,
   "id": "afde8f94-40f5-4e42-bbe0-b6ca54ec6e4d",
   "metadata": {},
   "outputs": [
    {
     "name": "stdin",
     "output_type": "stream",
     "text": [
      "Enter the elements of the input sequence: 2,3,4,5\n"
     ]
    },
    {
     "name": "stdout",
     "output_type": "stream",
     "text": [
      "the output sequence (using mathematical function) is: [10 23 38 54 38 23 10]\n",
      "the output sequence (using numpy.convolve) is: [10 23 38 54 38 23 10]\n"
     ]
    },
    {
     "data": {
      "text/plain": [
       "<StemContainer object of 3 artists>"
      ]
     },
     "execution_count": 2,
     "metadata": {},
     "output_type": "execute_result"
    },
    {
     "data": {
      "image/png": "[encoded data removed]",
      "text/plain": [
       "<Figure size 640x480 with 1 Axes>"
      ]
     },
     "metadata": {},
     "output_type": "display_data"
    }
   ],
   "source": [
    "import numpy as np \n",
    "import matplotlib.pyplot as plt \n",
    "ft = np.array(input(\"Enter the elements of the input sequence:\").split(\",\")).astype(int)\n",
    "gt = np.flip(ft)\n",
    "ftn=ft\n",
    "gtn=gt #these are for np.convolve, ft will change if gt>ft\n",
    "total = len(ft)+len(gt)-1\n",
    "\n",
    "#output sequence\n",
    "y = np.zeros(total) #len of the output sequence = len(ft) + len(gt) -1\n",
    "\n",
    "\n",
    "#making the lenth of the arrays ft,gt same if needed\n",
    "if len(ft)<len(gt):\n",
    "  (ft,gt) = (gt,ft)\n",
    "if len(ft)!=len(gt):\n",
    "  if len(ft)>len(gt):\n",
    "    z = np.zeros(len(ft)-len(gt)).astype(int)\n",
    "    gt = np.concatenate((gt,z))  # to merge two arrays, i.e to do zero padding in this case\n",
    "\n",
    "size = len(ft) #the value of k\n",
    "\n",
    "#convolution operation:\n",
    "for i in range (total):#n\n",
    "  sum=0\n",
    "  for j in range(size):#k\n",
    "    w = i-j\n",
    "    if (w < 0) or (w > size-1): #no negative index, also index should not be out of bounds\n",
    "      sum+=0\n",
    "    else:\n",
    "      sum+=ft[j]*gt[w]\n",
    "  y[i] = sum\n",
    "\n",
    "print(\"the output sequence (using mathematical function) is:\", y.astype(int))\n",
    "\n",
    "print(\"the output sequence (using numpy.convolve) is:\", np.convolve(ftn,gtn))\n",
    "\n",
    "#plot\n",
    "sizen = -1*size + 1\n",
    "ft_axis = np.arange(sizen,size,1)\n",
    "plt.stem(ft_axis,y)\n"
   ]
  },
  {
   "cell_type": "code",
   "execution_count": 41,
   "id": "5b09d715-c4bf-48d9-b009-c237484bfe8c",
   "metadata": {},
   "outputs": [
    {
     "name": "stdin",
     "output_type": "stream",
     "text": [
      "Enter the elements of the input sequence: 1,2,3,4,5\n",
      "Enter the elements of the 2nd input sequence: 2,3,4,5,6,7\n"
     ]
    },
    {
     "name": "stdout",
     "output_type": "stream",
     "text": [
      "The output sequence (using mathematical function) is: [ 7 20 38 60 85 70 54 38 23 10]\n",
      "The output sequence (using numpy.convolve) is: [ 7 20 38 60 85 70 54 38 23 10]\n",
      "10 10 6 -5 10\n"
     ]
    },
    {
     "data": {
      "text/plain": [
       "<StemContainer object of 3 artists>"
      ]
     },
     "execution_count": 41,
     "metadata": {},
     "output_type": "execute_result"
    },
    {
     "data": {
      "image/png": "[encoded data removed]",
      "text/plain": [
       "<Figure size 640x480 with 1 Axes>"
      ]
     },
     "metadata": {},
     "output_type": "display_data"
    }
   ],
   "source": [
    "import numpy as np \n",
    "import matplotlib.pyplot as plt \n",
    "ft = np.array(input(\"Enter the elements of the input sequence:\").split(\",\")).astype(int)\n",
    "h = np.array(input(\"Enter the elements of the 2nd input sequence:\").split(\",\")).astype(int)\n",
    "h = np.flip(h)\n",
    "ftn=ft\n",
    "hn=h #these are for np.convolve, ft will change if h>ft\n",
    "total = len(ft)+len(h)-1\n",
    "\n",
    "#output sequence\n",
    "y = np.zeros(total) #len of the output sequence = len(ft) + len(h) -1\n",
    "\n",
    "\n",
    "#making the length of the arrays ft,h same if needed\n",
    "if len(ft)<len(h):\n",
    "  (ft,h) = (h,ft)\n",
    "if len(ft)!=len(h):\n",
    "  if len(ft)>len(h):\n",
    "    z = np.zeros(len(ft)-len(h)).astype(int)\n",
    "    h = np.concatenate((h,z))  # to merge two arrays, i.e to do zero padding in this case\n",
    "\n",
    "size = len(ft) #the value of k\n",
    "\n",
    "#convolution operation:\n",
    "for i in range (total):#n\n",
    "  sum=0\n",
    "  for j in range(size):#k\n",
    "    w = i-j\n",
    "    if (w < 0) or (w > size-1): #no negative indeft, also indeft should not be out of bounds\n",
    "      sum+=0\n",
    "    else:\n",
    "      sum+=ft[j]*h[w]\n",
    "  y[i] = sum\n",
    "\n",
    "print(\"The output sequence (using mathematical function) is:\", y.astype(int))\n",
    "\n",
    "print(\"The output sequence (using numpy.convolve) is:\", np.convolve(ftn,hn))\n",
    "\n",
    "#plot\n",
    "sizen = -1*size + 1\n",
    "ft_x = np.arange(sizen ,sizen +total,1)\n",
    "print(len(y), len(ft_x), size, sizen,total)\n",
    "plt.stem(ft_x,y)"
   ]
  },
  {
   "cell_type": "code",
   "execution_count": null,
   "id": "d7e67124-2d2b-481e-826e-8097a6653e24",
   "metadata": {},
   "outputs": [],
   "source": []
  },
  {
   "cell_type": "code",
   "execution_count": null,
   "id": "c9ca13c5-7c82-4b95-b372-b596738dca05",
   "metadata": {},
   "outputs": [],
   "source": []
  }
 ],
 "metadata": {
  "kernelspec": {
   "display_name": "Python 3 (ipykernel)",
   "language": "python",
   "name": "python3"
  },
  "language_info": {
   "codemirror_mode": {
    "name": "ipython",
    "version": 3
   },
   "file_extension": ".py",
   "mimetype": "text/x-python",
   "name": "python",
   "nbconvert_exporter": "python",
   "pygments_lexer": "ipython3",
   "version": "3.11.2"
  }
 },
 "nbformat": 4,
 "nbformat_minor": 5
}
